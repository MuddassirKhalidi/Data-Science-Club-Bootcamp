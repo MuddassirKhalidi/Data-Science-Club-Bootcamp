{
 "cells": [
  {
   "cell_type": "markdown",
   "id": "0e7a1bbb",
   "metadata": {},
   "source": [
    "#### Write a Python program that takes two numbers as input from the user and prints \"First number is greater\" if the first number is greater than the second, \"Second number is greater\" if the second number is greater, and \"Both numbers are equal\" if they are equal."
   ]
  },
  {
   "cell_type": "code",
   "execution_count": null,
   "id": "eb8aad57",
   "metadata": {},
   "outputs": [],
   "source": [
    "# Taking input from the user\n",
    "num1 = float(input(\"Enter the first number: \"))\n",
    "num2 = float(input(\"Enter the second number: \"))\n",
    "\n",
    "# Comparing the numbers and printing the result\n",
    "if num1 > num2:\n",
    "    print(\"First number is greater\")\n",
    "elif num2 > num1:\n",
    "    print(\"Second number is greater\")\n",
    "else:\n",
    "    print(\"Both numbers are equal\")\n"
   ]
  },
  {
   "cell_type": "markdown",
   "id": "305aa751",
   "metadata": {},
   "source": [
    "#### Write a Python program that takes an integer as input from the user and prints \"Even\" if the number is even, and \"Odd\" if the number is odd."
   ]
  },
  {
   "cell_type": "code",
   "execution_count": null,
   "id": "6d0774ab",
   "metadata": {},
   "outputs": [],
   "source": [
    "# Taking input from the user\n",
    "num = int(input(\"Enter an integer: \"))\n",
    "\n",
    "# Checking if the number is even or odd and printing the result\n",
    "if num % 2 == 0:\n",
    "    print(\"Even\")\n",
    "else:\n",
    "    print(\"Odd\")\n"
   ]
  },
  {
   "cell_type": "markdown",
   "id": "ba08405e",
   "metadata": {},
   "source": [
    "#### Write a Python program that takes a character as input from the user and prints \"Vowel\" if the character is a vowel (a, e, i, o, u), and \"Consonant\" if it's a consonant."
   ]
  },
  {
   "cell_type": "code",
   "execution_count": null,
   "id": "d03ff7fb",
   "metadata": {},
   "outputs": [],
   "source": [
    "# Taking input from the user\n",
    "char = input(\"Enter a character: \")\n",
    "\n",
    "# Converting the character to lowercase for ease of comparison\n",
    "char = char.lower()\n",
    "\n",
    "# Checking if the character is a vowel or consonant and printing the result\n",
    "if char in ('a', 'e', 'i', 'o', 'u'):\n",
    "    print(\"Vowel\")\n",
    "else:\n",
    "    print(\"Consonant\")\n"
   ]
  },
  {
   "cell_type": "markdown",
   "id": "e8115341",
   "metadata": {},
   "source": [
    "#### Write a Python program that takes three numbers as input from the user and prints the largest number."
   ]
  },
  {
   "cell_type": "code",
   "execution_count": null,
   "id": "105908bf",
   "metadata": {},
   "outputs": [],
   "source": [
    "# Taking input from the user\n",
    "num1 = float(input(\"Enter the first number: \"))\n",
    "num2 = float(input(\"Enter the second number: \"))\n",
    "num3 = float(input(\"Enter the third number: \"))\n",
    "\n",
    "# Finding the largest number among the three and printing the result\n",
    "if num1 >= num2 and num1 >= num3:\n",
    "    print(\"Largest number:\", num1)\n",
    "elif num2 >= num1 and num2 >= num3:\n",
    "    print(\"Largest number:\", num2)\n",
    "else:\n",
    "    print(\"Largest number:\", num3)\n"
   ]
  },
  {
   "cell_type": "markdown",
   "id": "1b6fa3f1",
   "metadata": {},
   "source": [
    "#### Write a Python program that takes a year as input from the user and prints \"Leap year\" if it's a leap year, and \"Not a leap year\" if it's not. (Hint: Leap years are divisible by 4 but not by 100 unless they are also divisible by 400)."
   ]
  },
  {
   "cell_type": "code",
   "execution_count": null,
   "id": "fbc29d5e",
   "metadata": {},
   "outputs": [],
   "source": [
    "# Taking input from the user\n",
    "year = int(input(\"Enter a year: \"))\n",
    "\n",
    "# Checking if it's a leap year or not and printing the result\n",
    "if (year % 4 == 0 and year % 100 != 0) or (year % 400 == 0):\n",
    "    print(\"Leap year\")\n",
    "else:\n",
    "    print(\"Not a leap year\")\n"
   ]
  }
 ],
 "metadata": {
  "kernelspec": {
   "display_name": "Python 3 (ipykernel)",
   "language": "python",
   "name": "python3"
  },
  "language_info": {
   "codemirror_mode": {
    "name": "ipython",
    "version": 3
   },
   "file_extension": ".py",
   "mimetype": "text/x-python",
   "name": "python",
   "nbconvert_exporter": "python",
   "pygments_lexer": "ipython3",
   "version": "3.11.5"
  }
 },
 "nbformat": 4,
 "nbformat_minor": 5
}
