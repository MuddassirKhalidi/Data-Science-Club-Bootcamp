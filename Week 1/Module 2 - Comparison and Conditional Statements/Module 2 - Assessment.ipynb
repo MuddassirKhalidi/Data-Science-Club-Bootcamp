{
 "cells": [
  {
   "cell_type": "markdown",
   "id": "0e7a1bbb",
   "metadata": {},
   "source": [
    "#### Write a Python program that takes two numbers as input from the user and prints \"First number is greater\" if the first number is greater than the second, \"Second number is greater\" if the second number is greater, and \"Both numbers are equal\" if they are equal."
   ]
  },
  {
   "cell_type": "code",
   "execution_count": null,
   "id": "eb8aad57",
   "metadata": {},
   "outputs": [],
   "source": [
    "a = int(input())"
   ]
  },
  {
   "cell_type": "markdown",
   "id": "305aa751",
   "metadata": {},
   "source": [
    "#### Write a Python program that takes an integer as input from the user and prints \"Even\" if the number is even, and \"Odd\" if the number is odd."
   ]
  },
  {
   "cell_type": "code",
   "execution_count": null,
   "id": "6d0774ab",
   "metadata": {},
   "outputs": [],
   "source": []
  },
  {
   "cell_type": "markdown",
   "id": "ba08405e",
   "metadata": {},
   "source": [
    "#### Write a Python program that takes a character as input from the user and prints \"Vowel\" if the character is a vowel (a, e, i, o, u), and \"Consonant\" if it's a consonant."
   ]
  },
  {
   "cell_type": "code",
   "execution_count": null,
   "id": "d03ff7fb",
   "metadata": {},
   "outputs": [],
   "source": []
  },
  {
   "cell_type": "markdown",
   "id": "e8115341",
   "metadata": {},
   "source": [
    "#### Write a Python program that takes three numbers as input from the user and prints the largest number."
   ]
  },
  {
   "cell_type": "code",
   "execution_count": null,
   "id": "105908bf",
   "metadata": {},
   "outputs": [],
   "source": []
  },
  {
   "cell_type": "markdown",
   "id": "1b6fa3f1",
   "metadata": {},
   "source": [
    "#### Write a Python program that takes a year as input from the user and prints \"Leap year\" if it's a leap year, and \"Not a leap year\" if it's not. (Hint: Leap years are divisible by 4 but not by 100 unless they are also divisible by 400)."
   ]
  },
  {
   "cell_type": "code",
   "execution_count": null,
   "id": "fbc29d5e",
   "metadata": {},
   "outputs": [],
   "source": []
  }
 ],
 "metadata": {
  "kernelspec": {
   "display_name": "Python 3 (ipykernel)",
   "language": "python",
   "name": "python3"
  },
  "language_info": {
   "codemirror_mode": {
    "name": "ipython",
    "version": 3
   },
   "file_extension": ".py",
   "mimetype": "text/x-python",
   "name": "python",
   "nbconvert_exporter": "python",
   "pygments_lexer": "ipython3",
   "version": "3.11.5"
  }
 },
 "nbformat": 4,
 "nbformat_minor": 5
}
