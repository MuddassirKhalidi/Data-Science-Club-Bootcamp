{
 "cells": [
  {
   "cell_type": "markdown",
   "id": "5d8d4b79",
   "metadata": {},
   "source": [
    "# Install psycopg2"
   ]
  },
  {
   "cell_type": "code",
   "execution_count": 65,
   "id": "36bb504f",
   "metadata": {},
   "outputs": [],
   "source": [
    "pip install psycopg2"
   ]
  },
  {
   "cell_type": "markdown",
   "id": "f2fddb15",
   "metadata": {},
   "source": [
    "# Import psycopg2"
   ]
  },
  {
   "cell_type": "code",
   "execution_count": 66,
   "id": "142262d9",
   "metadata": {},
   "outputs": [],
   "source": [
    "import psycopg2 as pg2"
   ]
  },
  {
   "cell_type": "markdown",
   "id": "91edb391",
   "metadata": {},
   "source": [
    "# Create your first database\n",
    "\n",
    "### You will need to install PostgreSQL on your computer first\n",
    "\n",
    "Download the PostrgreSQL app from here\n",
    "\n",
    "https://www.postgresql.org/download/"
   ]
  },
  {
   "cell_type": "code",
   "execution_count": 67,
   "id": "ede053b4",
   "metadata": {},
   "outputs": [],
   "source": [
    "try:\n",
    "    # Connect to the PostgreSQL server\n",
    "    connection = pg2.connect(\n",
    "        dbname='postgres',  # Connect to the default 'postgres' database\n",
    "        user='muddassirkhalidi',\n",
    "        password='Mjkt260421pgadmin',\n",
    "        host='localhost',\n",
    "        port=5432\n",
    "    )\n",
    "    connection.autocommit = True  # Enable autocommit mode\n",
    "\n",
    "    # Create a cursor object to execute SQL commands\n",
    "    cursor = connection.cursor()\n",
    "\n",
    "    # Execute the SQL command to create a new database\n",
    "    create_database_query = 'CREATE DATABASE test'\n",
    "    cursor.execute(create_database_query)\n",
    "\n",
    "    print(\"Database created successfully.\")\n",
    "\n",
    "except pg2.Error as e:\n",
    "    print(\"Error:\", e)\n",
    "\n",
    "finally:\n",
    "    # Close the cursor and connection\n",
    "    cursor.close()\n",
    "    connection.close()"
   ]
  },
  {
   "cell_type": "markdown",
   "id": "f8340d91",
   "metadata": {},
   "source": [
    "# Creating a table"
   ]
  },
  {
   "cell_type": "code",
   "execution_count": 68,
   "id": "72fff8bb",
   "metadata": {},
   "outputs": [],
   "source": [
    "try:\n",
    "    # Connect to the PostgreSQL server\n",
    "    connection = pg2.connect(\n",
    "        dbname='test',\n",
    "        user='muddassirkhalidi',\n",
    "        password='Mjkt260421pgadmin',\n",
    "        host='localhost',\n",
    "        port=5432\n",
    "    )\n",
    "    connection.autocommit = True  # Enable autocommit mode\n",
    "\n",
    "    # Create a cursor object to execute SQL commands\n",
    "    cursor = connection.cursor()\n",
    "\n",
    "    # Execute the SQL command to create a new database\n",
    "    create_database_query = '''CREATE TABLE test \n",
    "    (ID SERIAL PRIMARY KEY, NAME VARCHAR(100), AGE INTEGER)'''\n",
    "    cursor.execute(create_database_query)\n",
    "\n",
    "    print(\"Table created successfully.\")\n",
    "\n",
    "except pg2.Error as e:\n",
    "    print(\"Error:\", e)\n",
    "\n",
    "# finally:\n",
    "#     # Close the cursor and connection\n",
    "#     cursor.close()\n",
    "#     connection.close()"
   ]
  },
  {
   "cell_type": "markdown",
   "id": "3a1ba820",
   "metadata": {},
   "source": [
    "# Inserting data in a table\n",
    "\n",
    "### This can be done in two ways:\n",
    "1. You can insert a single row of data: ```execute```\n",
    "2. You can insert multiple rows of data: ```executemany```"
   ]
  },
  {
   "cell_type": "markdown",
   "id": "b1433d0c",
   "metadata": {},
   "source": [
    "## Inserting one row\n",
    "\n",
    "### Remember!! Insertion must be done using tuples\n",
    "\n",
    "### Even if you have just one value to insert, it must be done like below:\n",
    "```insert_query = \"INSERT INTO test (name) VALUES (%s)\"```\n",
    "\n",
    "```data = 'Khalidi'```\n",
    "\n",
    "```cursor.execute(insert_query, (data,))```\n",
    "\n",
    "```connection.commit()```"
   ]
  },
  {
   "cell_type": "code",
   "execution_count": 69,
   "id": "c4653929",
   "metadata": {},
   "outputs": [],
   "source": [
    "# Define the SQL INSERT statement with placeholders for parameters\n",
    "insert_query = \"INSERT INTO test (name, age) VALUES (%s, %s)\"\n",
    "\n",
    "# Define the data to be inserted as a tuple\n",
    "data = ('Khalidi', 20)\n",
    "\n",
    "# Execute the SQL INSERT statement with execute()\n",
    "cursor.execute(insert_query, data)\n",
    "connection.commit()\n",
    "print(\"Data inserted successfully.\")"
   ]
  },
  {
   "cell_type": "markdown",
   "id": "2a9918dc",
   "metadata": {},
   "source": [
    "## Inserting multiple rows"
   ]
  },
  {
   "cell_type": "code",
   "execution_count": 70,
   "id": "16451f08",
   "metadata": {},
   "outputs": [],
   "source": [
    "# Define the SQL INSERT statement with placeholders for parameters\n",
    "insert_query = \"INSERT INTO test (name, age) VALUES (%s, %s)\"\n",
    "\n",
    "# Define the data to be inserted as a list of tuples\n",
    "data = [('Khalidi', 20),\n",
    "        ('Muddassir', 21),\n",
    "        ('Ahmed', 19),\n",
    "        ('Yasser', 20)]\n",
    "\n",
    "# Execute the SQL INSERT statement with executemany()\n",
    "cursor.executemany(insert_query, data)\n",
    "connection.commit()\n",
    "print(\"Data inserted successfully.\")"
   ]
  },
  {
   "cell_type": "markdown",
   "id": "6caae8bc",
   "metadata": {},
   "source": [
    "# Retrieving values from your table\n",
    "\n",
    "### Retrieval in python-DB has three methods:\n",
    "\n",
    "```fetchall()```: Retrieves all rows and returns a list of tuples\n",
    "\n",
    "```fetchone()```: Retrieves one tuple after the previous fetch statement\n",
    "\n",
    "```fetchmany()```: Retrieves a list of the number of tuples as specified after the previous statement\n",
    "\n",
    "### NOTE: Be careful when using ```fetchone()``` and ```fetchmany()```\n",
    "### The cursor variable acts like an actual cursor where the next return will start the cursor's current position"
   ]
  },
  {
   "cell_type": "markdown",
   "id": "bc2e4031",
   "metadata": {},
   "source": [
    "## fetchall()"
   ]
  },
  {
   "cell_type": "code",
   "execution_count": 71,
   "id": "7f2d3881",
   "metadata": {},
   "outputs": [],
   "source": [
    "#Define the SQL statement to retrieve data\n",
    "retrieve_statement = 'SELECT * FROM test'\n",
    "\n",
    "#Execute the SQL statement with execute()\n",
    "cursor.execute(retrieve_statement)\n",
    "\n",
    "#Store the data in a variable\n",
    "rows = cursor.fetchall()\n",
    "\n",
    "for row in rows:\n",
    "    print(row)"
   ]
  },
  {
   "cell_type": "markdown",
   "id": "8c3e7333",
   "metadata": {},
   "source": [
    "## fetchone()"
   ]
  },
  {
   "cell_type": "code",
   "execution_count": 56,
   "id": "282fd62b",
   "metadata": {},
   "outputs": [],
   "source": [
    "#Define the SQL statement to retrieve data\n",
    "retrieve_statement = 'SELECT * FROM test'\n",
    "\n",
    "#Execute the SQL statement with execute()\n",
    "cursor.execute(retrieve_statement)"
   ]
  },
  {
   "cell_type": "code",
   "execution_count": 73,
   "id": "342aedac",
   "metadata": {},
   "outputs": [],
   "source": [
    "row = cursor.fetchone()\n",
    "print(row)"
   ]
  },
  {
   "cell_type": "markdown",
   "id": "d647f56d",
   "metadata": {},
   "source": [
    "## fetchmany()"
   ]
  },
  {
   "cell_type": "code",
   "execution_count": 63,
   "id": "0d6f0bf6",
   "metadata": {},
   "outputs": [],
   "source": [
    "#Define the SQL statement to retrieve data\n",
    "retrieve_statement = 'SELECT * FROM test'\n",
    "\n",
    "#Execute the SQL statement with execute()\n",
    "cursor.execute(retrieve_statement)"
   ]
  },
  {
   "cell_type": "code",
   "execution_count": 74,
   "id": "1fe3b2fa",
   "metadata": {},
   "outputs": [],
   "source": [
    "rows = cursor.fetchmany(2)\n",
    "print(rows)"
   ]
  }
 ],
 "metadata": {
  "kernelspec": {
   "display_name": "Python 3 (ipykernel)",
   "language": "python",
   "name": "python3"
  },
  "language_info": {
   "codemirror_mode": {
    "name": "ipython",
    "version": 3
   },
   "file_extension": ".py",
   "mimetype": "text/x-python",
   "name": "python",
   "nbconvert_exporter": "python",
   "pygments_lexer": "ipython3",
   "version": "3.11.5"
  }
 },
 "nbformat": 4,
 "nbformat_minor": 5
}
